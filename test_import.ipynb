{
 "cells": [
  {
   "cell_type": "code",
   "execution_count": 1,
   "id": "c02d54f9",
   "metadata": {},
   "outputs": [
    {
     "name": "stdout",
     "output_type": "stream",
     "text": [
      "Pandas version:1.3.4\n",
      "Numpy version:1.21.2\n",
      "seaborn version:0.11.2\n",
      "matplotlib version:3.5.0\n",
      "sklearn version:1.0.1\n",
      "keras version:2.4.3\n",
      "tensorflow version:2.3.0\n",
      "xgboost version:1.5.0\n",
      "joblib version:1.1.0\n",
      "geopandas version:0.6.1\n",
      "geopy version:2.2.0\n"
     ]
    }
   ],
   "source": [
    "import pandas as pd\n",
    "import numpy as np\n",
    "import seaborn as sns\n",
    "import matplotlib \n",
    "import keras\n",
    "import tensorflow\n",
    "import sklearn\n",
    "import xgboost\n",
    "import joblib\n",
    "import geopandas\n",
    "import geopy\n",
    "\n",
    "\n",
    "from seaborn import load_dataset\n",
    "from keras.models import Sequential\n",
    "from keras.layers import Dense\n",
    "from keras.wrappers.scikit_learn import KerasClassifier\n",
    "from keras.utils import np_utils\n",
    "\n",
    "from sklearn.model_selection import GridSearchCV\n",
    "from sklearn.model_selection import KFold\n",
    "from sklearn.model_selection import cross_val_score\n",
    "from sklearn.linear_model import LogisticRegression\n",
    "from sklearn.model_selection import train_test_split\n",
    "from sklearn.preprocessing import LabelEncoder\n",
    "from sklearn.pipeline import Pipeline\n",
    "\n",
    "print(\"Pandas version:%s\"%pd.__version__)\n",
    "print(\"Numpy version:%s\"%np.__version__)\n",
    "print(\"seaborn version:%s\"%sns.__version__)\n",
    "print(\"matplotlib version:%s\"%matplotlib.__version__)\n",
    "print(\"sklearn version:%s\"%sklearn.__version__)\n",
    "print(\"keras version:%s\"%keras.__version__)\n",
    "print(\"tensorflow version:%s\"%tensorflow.__version__)\n",
    "print(\"xgboost version:%s\"%xgboost.__version__)\n",
    "print(\"joblib version:%s\"%joblib.__version__)\n",
    "print(\"geopandas version:%s\"%geopandas.__version__)\n",
    "print(\"geopy version:%s\"%geopy.__version__)"
   ]
  },
  {
   "cell_type": "code",
   "execution_count": null,
   "id": "e81c8035",
   "metadata": {},
   "outputs": [],
   "source": []
  }
 ],
 "metadata": {
  "kernelspec": {
   "display_name": "Python 3 (ipykernel)",
   "language": "python",
   "name": "python3"
  },
  "language_info": {
   "codemirror_mode": {
    "name": "ipython",
    "version": 3
   },
   "file_extension": ".py",
   "mimetype": "text/x-python",
   "name": "python",
   "nbconvert_exporter": "python",
   "pygments_lexer": "ipython3",
   "version": "3.8.12"
  }
 },
 "nbformat": 4,
 "nbformat_minor": 5
}
